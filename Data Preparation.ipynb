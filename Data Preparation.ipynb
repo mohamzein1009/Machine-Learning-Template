{
 "cells": [
  {
   "cell_type": "code",
   "execution_count": 1,
   "id": "f2d21916",
   "metadata": {
    "ExecuteTime": {
     "end_time": "2024-06-02T12:20:38.788664Z",
     "start_time": "2024-06-02T12:20:37.015796Z"
    }
   },
   "outputs": [],
   "source": [
    "#imports\n",
    "import pandas as pd\n",
    "import numpy as np\n",
    "import seaborn as sns\n",
    "import datetime\n",
    "from datetime import datetime as dt\n",
    "from matplotlib import pyplot as plt"
   ]
  },
  {
   "cell_type": "code",
   "execution_count": 2,
   "id": "a8f88356",
   "metadata": {
    "ExecuteTime": {
     "end_time": "2024-06-02T12:20:39.512008Z",
     "start_time": "2024-06-02T12:20:38.789668Z"
    }
   },
   "outputs": [],
   "source": [
    "#reading in the dataset, enter in the pathname to the datafile\n",
    "df = pd.read_csv('weather_data.csv')"
   ]
  },
  {
   "cell_type": "code",
   "execution_count": 3,
   "id": "cb03015d",
   "metadata": {
    "ExecuteTime": {
     "end_time": "2024-06-02T12:20:39.571867Z",
     "start_time": "2024-06-02T12:20:39.513045Z"
    },
    "scrolled": false
   },
   "outputs": [
    {
     "data": {
      "text/html": [
       "<div>\n",
       "<style scoped>\n",
       "    .dataframe tbody tr th:only-of-type {\n",
       "        vertical-align: middle;\n",
       "    }\n",
       "\n",
       "    .dataframe tbody tr th {\n",
       "        vertical-align: top;\n",
       "    }\n",
       "\n",
       "    .dataframe thead th {\n",
       "        text-align: right;\n",
       "    }\n",
       "</style>\n",
       "<table border=\"1\" class=\"dataframe\">\n",
       "  <thead>\n",
       "    <tr style=\"text-align: right;\">\n",
       "      <th></th>\n",
       "      <th>Location</th>\n",
       "      <th>Date_Time</th>\n",
       "      <th>Temperature_C</th>\n",
       "      <th>Humidity_pct</th>\n",
       "      <th>Precipitation_mm</th>\n",
       "      <th>Wind_Speed_kmh</th>\n",
       "    </tr>\n",
       "  </thead>\n",
       "  <tbody>\n",
       "    <tr>\n",
       "      <th>0</th>\n",
       "      <td>San Diego</td>\n",
       "      <td>2024-01-14 21:12:46</td>\n",
       "      <td>10.683001</td>\n",
       "      <td>41.195754</td>\n",
       "      <td>4.020119</td>\n",
       "      <td>8.233540</td>\n",
       "    </tr>\n",
       "    <tr>\n",
       "      <th>1</th>\n",
       "      <td>San Diego</td>\n",
       "      <td>2024-05-17 15:22:10</td>\n",
       "      <td>8.734140</td>\n",
       "      <td>58.319107</td>\n",
       "      <td>9.111623</td>\n",
       "      <td>27.715161</td>\n",
       "    </tr>\n",
       "    <tr>\n",
       "      <th>2</th>\n",
       "      <td>San Diego</td>\n",
       "      <td>2024-05-11 09:30:59</td>\n",
       "      <td>11.632436</td>\n",
       "      <td>38.820175</td>\n",
       "      <td>4.607511</td>\n",
       "      <td>28.732951</td>\n",
       "    </tr>\n",
       "    <tr>\n",
       "      <th>3</th>\n",
       "      <td>Philadelphia</td>\n",
       "      <td>2024-02-26 17:32:39</td>\n",
       "      <td>-8.628976</td>\n",
       "      <td>54.074474</td>\n",
       "      <td>3.183720</td>\n",
       "      <td>26.367303</td>\n",
       "    </tr>\n",
       "    <tr>\n",
       "      <th>4</th>\n",
       "      <td>San Antonio</td>\n",
       "      <td>2024-04-29 13:23:51</td>\n",
       "      <td>39.808213</td>\n",
       "      <td>72.899908</td>\n",
       "      <td>9.598282</td>\n",
       "      <td>29.898622</td>\n",
       "    </tr>\n",
       "  </tbody>\n",
       "</table>\n",
       "</div>"
      ],
      "text/plain": [
       "       Location            Date_Time  Temperature_C  Humidity_pct  \\\n",
       "0     San Diego  2024-01-14 21:12:46      10.683001     41.195754   \n",
       "1     San Diego  2024-05-17 15:22:10       8.734140     58.319107   \n",
       "2     San Diego  2024-05-11 09:30:59      11.632436     38.820175   \n",
       "3  Philadelphia  2024-02-26 17:32:39      -8.628976     54.074474   \n",
       "4   San Antonio  2024-04-29 13:23:51      39.808213     72.899908   \n",
       "\n",
       "   Precipitation_mm  Wind_Speed_kmh  \n",
       "0          4.020119        8.233540  \n",
       "1          9.111623       27.715161  \n",
       "2          4.607511       28.732951  \n",
       "3          3.183720       26.367303  \n",
       "4          9.598282       29.898622  "
      ]
     },
     "metadata": {},
     "output_type": "display_data"
    },
    {
     "name": "stdout",
     "output_type": "stream",
     "text": [
      "<class 'pandas.core.frame.DataFrame'>\n",
      "RangeIndex: 1000000 entries, 0 to 999999\n",
      "Data columns (total 6 columns):\n",
      " #   Column            Non-Null Count    Dtype  \n",
      "---  ------            --------------    -----  \n",
      " 0   Location          1000000 non-null  object \n",
      " 1   Date_Time         1000000 non-null  object \n",
      " 2   Temperature_C     1000000 non-null  float64\n",
      " 3   Humidity_pct      1000000 non-null  float64\n",
      " 4   Precipitation_mm  1000000 non-null  float64\n",
      " 5   Wind_Speed_kmh    1000000 non-null  float64\n",
      "dtypes: float64(4), object(2)\n",
      "memory usage: 45.8+ MB\n"
     ]
    }
   ],
   "source": [
    "#inspecting data types and formats\n",
    "display(df.head())\n",
    "df.info()"
   ]
  },
  {
   "cell_type": "code",
   "execution_count": 4,
   "id": "903d4915",
   "metadata": {
    "ExecuteTime": {
     "end_time": "2024-06-02T12:20:39.600356Z",
     "start_time": "2024-06-02T12:20:39.573378Z"
    }
   },
   "outputs": [],
   "source": [
    "#rename columns woth dictionary\n",
    "\n",
    "df = df.rename(columns = {'Temperature_C':'temp_C', 'Location':'state', 'Date_Time':'dt', 'Humidity_pct':'humid_pct',\n",
    "                     'Precipitation_mm':'precip_mm','Wind_Speed_kmh':'windspeed_kmh'})"
   ]
  },
  {
   "cell_type": "code",
   "execution_count": 5,
   "id": "3d782ac0",
   "metadata": {
    "ExecuteTime": {
     "end_time": "2024-06-02T12:20:40.051726Z",
     "start_time": "2024-06-02T12:20:39.600356Z"
    },
    "code_folding": []
   },
   "outputs": [],
   "source": [
    "#changing into more suitable data types and fixing datetime if needed\n",
    "#change data types by using a dictionary\n",
    "\n",
    "df = df.astype({'state': 'category'})\n",
    "df['dt'] = pd.to_datetime(df['dt'])"
   ]
  },
  {
   "cell_type": "code",
   "execution_count": 6,
   "id": "385f4f08",
   "metadata": {
    "ExecuteTime": {
     "end_time": "2024-06-02T12:20:40.061283Z",
     "start_time": "2024-06-02T12:20:40.051726Z"
    }
   },
   "outputs": [],
   "source": [
    "#transforming columns\n",
    "\n",
    "df['temp_F'] = df['temp_C'] * (9/5) + 32"
   ]
  },
  {
   "cell_type": "code",
   "execution_count": 8,
   "id": "39f4f84b",
   "metadata": {
    "ExecuteTime": {
     "end_time": "2024-06-02T12:24:47.926700Z",
     "start_time": "2024-06-02T12:24:47.908077Z"
    },
    "scrolled": true
   },
   "outputs": [
    {
     "name": "stdout",
     "output_type": "stream",
     "text": [
      "<class 'pandas.core.frame.DataFrame'>\n",
      "RangeIndex: 1000000 entries, 0 to 999999\n",
      "Data columns (total 7 columns):\n",
      " #   Column         Non-Null Count    Dtype         \n",
      "---  ------         --------------    -----         \n",
      " 0   state          1000000 non-null  category      \n",
      " 1   dt             1000000 non-null  datetime64[ns]\n",
      " 2   temp_C         1000000 non-null  float64       \n",
      " 3   humid_pct      1000000 non-null  float64       \n",
      " 4   precip_mm      1000000 non-null  float64       \n",
      " 5   windspeed_kmh  1000000 non-null  float64       \n",
      " 6   temp_F         1000000 non-null  float64       \n",
      "dtypes: category(1), datetime64[ns](1), float64(5)\n",
      "memory usage: 46.7 MB\n"
     ]
    },
    {
     "data": {
      "text/html": [
       "<div>\n",
       "<style scoped>\n",
       "    .dataframe tbody tr th:only-of-type {\n",
       "        vertical-align: middle;\n",
       "    }\n",
       "\n",
       "    .dataframe tbody tr th {\n",
       "        vertical-align: top;\n",
       "    }\n",
       "\n",
       "    .dataframe thead th {\n",
       "        text-align: right;\n",
       "    }\n",
       "</style>\n",
       "<table border=\"1\" class=\"dataframe\">\n",
       "  <thead>\n",
       "    <tr style=\"text-align: right;\">\n",
       "      <th></th>\n",
       "      <th>state</th>\n",
       "      <th>dt</th>\n",
       "      <th>temp_C</th>\n",
       "      <th>humid_pct</th>\n",
       "      <th>precip_mm</th>\n",
       "      <th>windspeed_kmh</th>\n",
       "      <th>temp_F</th>\n",
       "    </tr>\n",
       "  </thead>\n",
       "  <tbody>\n",
       "    <tr>\n",
       "      <th>0</th>\n",
       "      <td>San Diego</td>\n",
       "      <td>2024-01-14 21:12:46</td>\n",
       "      <td>10.683001</td>\n",
       "      <td>41.195754</td>\n",
       "      <td>4.020119</td>\n",
       "      <td>8.233540</td>\n",
       "      <td>51.229402</td>\n",
       "    </tr>\n",
       "    <tr>\n",
       "      <th>1</th>\n",
       "      <td>San Diego</td>\n",
       "      <td>2024-05-17 15:22:10</td>\n",
       "      <td>8.734140</td>\n",
       "      <td>58.319107</td>\n",
       "      <td>9.111623</td>\n",
       "      <td>27.715161</td>\n",
       "      <td>47.721452</td>\n",
       "    </tr>\n",
       "    <tr>\n",
       "      <th>2</th>\n",
       "      <td>San Diego</td>\n",
       "      <td>2024-05-11 09:30:59</td>\n",
       "      <td>11.632436</td>\n",
       "      <td>38.820175</td>\n",
       "      <td>4.607511</td>\n",
       "      <td>28.732951</td>\n",
       "      <td>52.938385</td>\n",
       "    </tr>\n",
       "    <tr>\n",
       "      <th>3</th>\n",
       "      <td>Philadelphia</td>\n",
       "      <td>2024-02-26 17:32:39</td>\n",
       "      <td>-8.628976</td>\n",
       "      <td>54.074474</td>\n",
       "      <td>3.183720</td>\n",
       "      <td>26.367303</td>\n",
       "      <td>16.467843</td>\n",
       "    </tr>\n",
       "    <tr>\n",
       "      <th>4</th>\n",
       "      <td>San Antonio</td>\n",
       "      <td>2024-04-29 13:23:51</td>\n",
       "      <td>39.808213</td>\n",
       "      <td>72.899908</td>\n",
       "      <td>9.598282</td>\n",
       "      <td>29.898622</td>\n",
       "      <td>103.654783</td>\n",
       "    </tr>\n",
       "  </tbody>\n",
       "</table>\n",
       "</div>"
      ],
      "text/plain": [
       "          state                  dt     temp_C  humid_pct  precip_mm  \\\n",
       "0     San Diego 2024-01-14 21:12:46  10.683001  41.195754   4.020119   \n",
       "1     San Diego 2024-05-17 15:22:10   8.734140  58.319107   9.111623   \n",
       "2     San Diego 2024-05-11 09:30:59  11.632436  38.820175   4.607511   \n",
       "3  Philadelphia 2024-02-26 17:32:39  -8.628976  54.074474   3.183720   \n",
       "4   San Antonio 2024-04-29 13:23:51  39.808213  72.899908   9.598282   \n",
       "\n",
       "   windspeed_kmh      temp_F  \n",
       "0       8.233540   51.229402  \n",
       "1      27.715161   47.721452  \n",
       "2      28.732951   52.938385  \n",
       "3      26.367303   16.467843  \n",
       "4      29.898622  103.654783  "
      ]
     },
     "metadata": {},
     "output_type": "display_data"
    }
   ],
   "source": [
    "df.info()\n",
    "display(df.head())"
   ]
  },
  {
   "cell_type": "code",
   "execution_count": 9,
   "id": "9c08e168",
   "metadata": {
    "ExecuteTime": {
     "end_time": "2024-06-02T12:26:18.033711Z",
     "start_time": "2024-06-02T12:26:13.070843Z"
    }
   },
   "outputs": [],
   "source": [
    "df.to_csv('preped_data.csv')"
   ]
  }
 ],
 "metadata": {
  "kernelspec": {
   "display_name": "Python 3 (ipykernel)",
   "language": "python",
   "name": "python3"
  },
  "language_info": {
   "codemirror_mode": {
    "name": "ipython",
    "version": 3
   },
   "file_extension": ".py",
   "mimetype": "text/x-python",
   "name": "python",
   "nbconvert_exporter": "python",
   "pygments_lexer": "ipython3",
   "version": "3.11.5"
  }
 },
 "nbformat": 4,
 "nbformat_minor": 5
}
