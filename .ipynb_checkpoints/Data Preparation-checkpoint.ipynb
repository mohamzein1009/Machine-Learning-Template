{
 "cells": [
  {
   "cell_type": "code",
   "execution_count": 1,
   "id": "b41f692d",
   "metadata": {
    "ExecuteTime": {
     "end_time": "2024-05-31T12:15:39.759137Z",
     "start_time": "2024-05-31T12:15:36.813673Z"
    }
   },
   "outputs": [],
   "source": [
    "#imports\n",
    "import pandas as pd\n",
    "import numpy as np\n",
    "import seaborn as sns\n",
    "import datetime\n",
    "from datetime import datetime as dt\n",
    "from matplotlib import pyplot as plt"
   ]
  },
  {
   "cell_type": "code",
   "execution_count": 19,
   "id": "621ac824",
   "metadata": {
    "ExecuteTime": {
     "end_time": "2024-05-31T12:53:33.362970Z",
     "start_time": "2024-05-31T12:53:32.431481Z"
    }
   },
   "outputs": [],
   "source": [
    "#reading in the dataset, enter in the pathname to the datafile\n",
    "df = pd.read_csv('weather_data.csv')"
   ]
  },
  {
   "cell_type": "code",
   "execution_count": 32,
   "id": "273696d2",
   "metadata": {
    "ExecuteTime": {
     "end_time": "2024-05-31T13:14:23.626070Z",
     "start_time": "2024-05-31T13:14:23.592904Z"
    },
    "scrolled": false
   },
   "outputs": [
    {
     "data": {
      "text/html": [
       "<div>\n",
       "<style scoped>\n",
       "    .dataframe tbody tr th:only-of-type {\n",
       "        vertical-align: middle;\n",
       "    }\n",
       "\n",
       "    .dataframe tbody tr th {\n",
       "        vertical-align: top;\n",
       "    }\n",
       "\n",
       "    .dataframe thead th {\n",
       "        text-align: right;\n",
       "    }\n",
       "</style>\n",
       "<table border=\"1\" class=\"dataframe\">\n",
       "  <thead>\n",
       "    <tr style=\"text-align: right;\">\n",
       "      <th></th>\n",
       "      <th>state</th>\n",
       "      <th>dt</th>\n",
       "      <th>temp_C</th>\n",
       "      <th>humid_pct</th>\n",
       "      <th>precip_mm</th>\n",
       "      <th>windspeed_kmh</th>\n",
       "      <th>temp_F</th>\n",
       "    </tr>\n",
       "  </thead>\n",
       "  <tbody>\n",
       "    <tr>\n",
       "      <th>0</th>\n",
       "      <td>San Diego</td>\n",
       "      <td>2024-01-14 21:12:46</td>\n",
       "      <td>10.683001</td>\n",
       "      <td>41.195754</td>\n",
       "      <td>4.020119</td>\n",
       "      <td>8.233540</td>\n",
       "      <td>51.229402</td>\n",
       "    </tr>\n",
       "    <tr>\n",
       "      <th>1</th>\n",
       "      <td>San Diego</td>\n",
       "      <td>2024-05-17 15:22:10</td>\n",
       "      <td>8.734140</td>\n",
       "      <td>58.319107</td>\n",
       "      <td>9.111623</td>\n",
       "      <td>27.715161</td>\n",
       "      <td>47.721452</td>\n",
       "    </tr>\n",
       "    <tr>\n",
       "      <th>2</th>\n",
       "      <td>San Diego</td>\n",
       "      <td>2024-05-11 09:30:59</td>\n",
       "      <td>11.632436</td>\n",
       "      <td>38.820175</td>\n",
       "      <td>4.607511</td>\n",
       "      <td>28.732951</td>\n",
       "      <td>52.938385</td>\n",
       "    </tr>\n",
       "    <tr>\n",
       "      <th>3</th>\n",
       "      <td>Philadelphia</td>\n",
       "      <td>2024-02-26 17:32:39</td>\n",
       "      <td>-8.628976</td>\n",
       "      <td>54.074474</td>\n",
       "      <td>3.183720</td>\n",
       "      <td>26.367303</td>\n",
       "      <td>16.467843</td>\n",
       "    </tr>\n",
       "    <tr>\n",
       "      <th>4</th>\n",
       "      <td>San Antonio</td>\n",
       "      <td>2024-04-29 13:23:51</td>\n",
       "      <td>39.808213</td>\n",
       "      <td>72.899908</td>\n",
       "      <td>9.598282</td>\n",
       "      <td>29.898622</td>\n",
       "      <td>103.654783</td>\n",
       "    </tr>\n",
       "  </tbody>\n",
       "</table>\n",
       "</div>"
      ],
      "text/plain": [
       "          state                  dt     temp_C  humid_pct  precip_mm  \\\n",
       "0     San Diego 2024-01-14 21:12:46  10.683001  41.195754   4.020119   \n",
       "1     San Diego 2024-05-17 15:22:10   8.734140  58.319107   9.111623   \n",
       "2     San Diego 2024-05-11 09:30:59  11.632436  38.820175   4.607511   \n",
       "3  Philadelphia 2024-02-26 17:32:39  -8.628976  54.074474   3.183720   \n",
       "4   San Antonio 2024-04-29 13:23:51  39.808213  72.899908   9.598282   \n",
       "\n",
       "   windspeed_kmh      temp_F  \n",
       "0       8.233540   51.229402  \n",
       "1      27.715161   47.721452  \n",
       "2      28.732951   52.938385  \n",
       "3      26.367303   16.467843  \n",
       "4      29.898622  103.654783  "
      ]
     },
     "metadata": {},
     "output_type": "display_data"
    },
    {
     "name": "stdout",
     "output_type": "stream",
     "text": [
      "<class 'pandas.core.frame.DataFrame'>\n",
      "RangeIndex: 1000000 entries, 0 to 999999\n",
      "Data columns (total 7 columns):\n",
      " #   Column         Non-Null Count    Dtype         \n",
      "---  ------         --------------    -----         \n",
      " 0   state          1000000 non-null  category      \n",
      " 1   dt             1000000 non-null  datetime64[ns]\n",
      " 2   temp_C         1000000 non-null  float64       \n",
      " 3   humid_pct      1000000 non-null  float64       \n",
      " 4   precip_mm      1000000 non-null  float64       \n",
      " 5   windspeed_kmh  1000000 non-null  float64       \n",
      " 6   temp_F         1000000 non-null  float64       \n",
      "dtypes: category(1), datetime64[ns](1), float64(5)\n",
      "memory usage: 46.7 MB\n"
     ]
    }
   ],
   "source": [
    "#inspecting data types and formats\n",
    "display(df.head())\n",
    "df.info()"
   ]
  },
  {
   "cell_type": "code",
   "execution_count": 27,
   "id": "8d2ca294",
   "metadata": {
    "ExecuteTime": {
     "end_time": "2024-05-31T13:11:20.126171Z",
     "start_time": "2024-05-31T13:11:20.095778Z"
    }
   },
   "outputs": [],
   "source": [
    "#rename columns woth dictionary\n",
    "\n",
    "df = df.rename(columns = {'Temperature_C':'temp_C', 'Location':'state', 'Date_Time':'dt', 'Humidity_pct':'humid_pct',\n",
    "                     'Precipitation_mm':'precip_mm','Wind_Speed_kmh':'windspeed_kmh'})"
   ]
  },
  {
   "cell_type": "code",
   "execution_count": 29,
   "id": "972c25ee",
   "metadata": {
    "ExecuteTime": {
     "end_time": "2024-05-31T13:11:34.209619Z",
     "start_time": "2024-05-31T13:11:34.184750Z"
    },
    "code_folding": []
   },
   "outputs": [],
   "source": [
    "#changing into more suitable data types and fixing datetime if needed\n",
    "#change data types by using a dictionary\n",
    "\n",
    "df = df.astype({'state': 'category'})\n",
    "df['dt'] = pd.to_datetime(df['dt'])"
   ]
  },
  {
   "cell_type": "code",
   "execution_count": 31,
   "id": "074a64a8",
   "metadata": {
    "ExecuteTime": {
     "end_time": "2024-05-31T13:14:20.723479Z",
     "start_time": "2024-05-31T13:14:20.712249Z"
    }
   },
   "outputs": [],
   "source": [
    "#transforming columns\n",
    "\n",
    "df['temp_F'] = df['temp_C'] * (9/5) + 32"
   ]
  },
  {
   "cell_type": "code",
   "execution_count": 35,
   "id": "a73b28af",
   "metadata": {
    "ExecuteTime": {
     "end_time": "2024-05-31T13:19:42.152592Z",
     "start_time": "2024-05-31T13:19:38.176306Z"
    }
   },
   "outputs": [
    {
     "data": {
      "text/html": [
       "<div>\n",
       "<style scoped>\n",
       "    .dataframe tbody tr th:only-of-type {\n",
       "        vertical-align: middle;\n",
       "    }\n",
       "\n",
       "    .dataframe tbody tr th {\n",
       "        vertical-align: top;\n",
       "    }\n",
       "\n",
       "    .dataframe thead th {\n",
       "        text-align: right;\n",
       "    }\n",
       "</style>\n",
       "<table border=\"1\" class=\"dataframe\">\n",
       "  <thead>\n",
       "    <tr style=\"text-align: right;\">\n",
       "      <th></th>\n",
       "      <th>temp_C</th>\n",
       "      <th>temp_F</th>\n",
       "    </tr>\n",
       "  </thead>\n",
       "  <tbody>\n",
       "    <tr>\n",
       "      <th>0</th>\n",
       "      <td>10.680</td>\n",
       "      <td>51.23</td>\n",
       "    </tr>\n",
       "    <tr>\n",
       "      <th>1</th>\n",
       "      <td>8.734</td>\n",
       "      <td>47.72</td>\n",
       "    </tr>\n",
       "    <tr>\n",
       "      <th>2</th>\n",
       "      <td>11.630</td>\n",
       "      <td>52.94</td>\n",
       "    </tr>\n",
       "    <tr>\n",
       "      <th>3</th>\n",
       "      <td>-8.629</td>\n",
       "      <td>16.47</td>\n",
       "    </tr>\n",
       "    <tr>\n",
       "      <th>4</th>\n",
       "      <td>39.810</td>\n",
       "      <td>103.70</td>\n",
       "    </tr>\n",
       "    <tr>\n",
       "      <th>...</th>\n",
       "      <td>...</td>\n",
       "      <td>...</td>\n",
       "    </tr>\n",
       "    <tr>\n",
       "      <th>999995</th>\n",
       "      <td>23.420</td>\n",
       "      <td>74.15</td>\n",
       "    </tr>\n",
       "    <tr>\n",
       "      <th>999996</th>\n",
       "      <td>6.759</td>\n",
       "      <td>44.17</td>\n",
       "    </tr>\n",
       "    <tr>\n",
       "      <th>999997</th>\n",
       "      <td>15.660</td>\n",
       "      <td>60.20</td>\n",
       "    </tr>\n",
       "    <tr>\n",
       "      <th>999998</th>\n",
       "      <td>19.000</td>\n",
       "      <td>66.20</td>\n",
       "    </tr>\n",
       "    <tr>\n",
       "      <th>999999</th>\n",
       "      <td>10.730</td>\n",
       "      <td>51.31</td>\n",
       "    </tr>\n",
       "  </tbody>\n",
       "</table>\n",
       "<p>1000000 rows × 2 columns</p>\n",
       "</div>"
      ],
      "text/plain": [
       "        temp_C  temp_F\n",
       "0       10.680   51.23\n",
       "1        8.734   47.72\n",
       "2       11.630   52.94\n",
       "3       -8.629   16.47\n",
       "4       39.810  103.70\n",
       "...        ...     ...\n",
       "999995  23.420   74.15\n",
       "999996   6.759   44.17\n",
       "999997  15.660   60.20\n",
       "999998  19.000   66.20\n",
       "999999  10.730   51.31\n",
       "\n",
       "[1000000 rows x 2 columns]"
      ]
     },
     "execution_count": 35,
     "metadata": {},
     "output_type": "execute_result"
    }
   ],
   "source": [
    "#rounding to N sf.\n",
    "\n",
    "N = 3\n",
    "df[['temp_C', 'temp_F']].applymap(lambda x: round(x, N - int(np.floor(np.log10(abs(x))))))"
   ]
  }
 ],
 "metadata": {
  "kernelspec": {
   "display_name": "Python 3 (ipykernel)",
   "language": "python",
   "name": "python3"
  },
  "language_info": {
   "codemirror_mode": {
    "name": "ipython",
    "version": 3
   },
   "file_extension": ".py",
   "mimetype": "text/x-python",
   "name": "python",
   "nbconvert_exporter": "python",
   "pygments_lexer": "ipython3",
   "version": "3.11.5"
  }
 },
 "nbformat": 4,
 "nbformat_minor": 5
}
