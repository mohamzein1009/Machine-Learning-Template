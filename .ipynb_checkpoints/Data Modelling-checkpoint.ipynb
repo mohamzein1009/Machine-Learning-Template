{
 "cells": [
  {
   "cell_type": "code",
   "execution_count": 9,
   "id": "4ed25179",
   "metadata": {
    "ExecuteTime": {
     "end_time": "2024-06-11T16:16:59.611344Z",
     "start_time": "2024-06-11T16:16:59.607022Z"
    }
   },
   "outputs": [],
   "source": [
    "#imports\n",
    "\n",
    "import pandas as pd\n",
    "import numpy as np\n",
    "import joblib\n",
    "\n",
    "#import eli5\n",
    "#from eli5.sklearn import PermutationImportance\n",
    "from matplotlib.colors import ListedColormap\n",
    "\n",
    "import category_encoders as ce\n",
    "from sklearn.experimental import enable_halving_search_cv\n",
    "import warnings\n",
    "from sklearn import tree\n",
    "import sklearn\n",
    "from sklearn.ensemble import RandomForestClassifier, AdaBoostClassifier, GradientBoostingClassifier\n",
    "from sklearn import svm\n",
    "from sklearn.model_selection import cross_val_score, train_test_split, GridSearchCV, validation_curve, learning_curve, HalvingGridSearchCV\n",
    "from sklearn.linear_model import LogisticRegression\n",
    "from sklearn.tree import DecisionTreeClassifier\n",
    "from sklearn.neighbors import KNeighborsClassifier\n",
    "from sklearn.metrics import f1_score, make_scorer, precision_score, accuracy_score, recall_score, confusion_matrix, fbeta_score, ConfusionMatrixDisplay\n",
    "from sklearn.preprocessing import MinMaxScaler, StandardScaler\n",
    "from sklearn.naive_bayes import GaussianNB\n",
    "from sklearn.neural_network import MLPClassifier\n",
    "from sklearn.decomposition import PCA\n",
    "from sklearn.pipeline import Pipeline\n",
    "import xgboost as xgb\n",
    "from sklearn.feature_selection import RFE\n",
    "from matplotlib import pyplot as plt\n",
    "import dataframe_image as dfi\n"
   ]
  },
  {
   "cell_type": "code",
   "execution_count": 10,
   "id": "d776e9de",
   "metadata": {
    "ExecuteTime": {
     "end_time": "2024-06-11T16:21:16.772353Z",
     "start_time": "2024-06-11T16:21:15.703602Z"
    }
   },
   "outputs": [],
   "source": [
    "data = pd.read_csv('preped_data.csv').drop(columns=['Unnamed: 0'])"
   ]
  },
  {
   "cell_type": "code",
   "execution_count": 11,
   "id": "7cc2fd7f",
   "metadata": {
    "ExecuteTime": {
     "end_time": "2024-06-11T16:23:21.788784Z",
     "start_time": "2024-06-11T16:23:21.760501Z"
    },
    "scrolled": true
   },
   "outputs": [
    {
     "data": {
      "text/html": [
       "<div>\n",
       "<style scoped>\n",
       "    .dataframe tbody tr th:only-of-type {\n",
       "        vertical-align: middle;\n",
       "    }\n",
       "\n",
       "    .dataframe tbody tr th {\n",
       "        vertical-align: top;\n",
       "    }\n",
       "\n",
       "    .dataframe thead th {\n",
       "        text-align: right;\n",
       "    }\n",
       "</style>\n",
       "<table border=\"1\" class=\"dataframe\">\n",
       "  <thead>\n",
       "    <tr style=\"text-align: right;\">\n",
       "      <th></th>\n",
       "      <th>state</th>\n",
       "      <th>dt</th>\n",
       "      <th>temp_C</th>\n",
       "      <th>humid_pct</th>\n",
       "      <th>precip_mm</th>\n",
       "      <th>windspeed_kmh</th>\n",
       "      <th>temp_F</th>\n",
       "    </tr>\n",
       "  </thead>\n",
       "  <tbody>\n",
       "    <tr>\n",
       "      <th>0</th>\n",
       "      <td>San Diego</td>\n",
       "      <td>2024-01-14 21:12:46</td>\n",
       "      <td>10.683001</td>\n",
       "      <td>41.195754</td>\n",
       "      <td>4.020119</td>\n",
       "      <td>8.233540</td>\n",
       "      <td>51.229402</td>\n",
       "    </tr>\n",
       "    <tr>\n",
       "      <th>1</th>\n",
       "      <td>San Diego</td>\n",
       "      <td>2024-05-17 15:22:10</td>\n",
       "      <td>8.734140</td>\n",
       "      <td>58.319107</td>\n",
       "      <td>9.111623</td>\n",
       "      <td>27.715161</td>\n",
       "      <td>47.721452</td>\n",
       "    </tr>\n",
       "    <tr>\n",
       "      <th>2</th>\n",
       "      <td>San Diego</td>\n",
       "      <td>2024-05-11 09:30:59</td>\n",
       "      <td>11.632436</td>\n",
       "      <td>38.820175</td>\n",
       "      <td>4.607511</td>\n",
       "      <td>28.732951</td>\n",
       "      <td>52.938385</td>\n",
       "    </tr>\n",
       "    <tr>\n",
       "      <th>3</th>\n",
       "      <td>Philadelphia</td>\n",
       "      <td>2024-02-26 17:32:39</td>\n",
       "      <td>-8.628976</td>\n",
       "      <td>54.074474</td>\n",
       "      <td>3.183720</td>\n",
       "      <td>26.367303</td>\n",
       "      <td>16.467843</td>\n",
       "    </tr>\n",
       "    <tr>\n",
       "      <th>4</th>\n",
       "      <td>San Antonio</td>\n",
       "      <td>2024-04-29 13:23:51</td>\n",
       "      <td>39.808213</td>\n",
       "      <td>72.899908</td>\n",
       "      <td>9.598282</td>\n",
       "      <td>29.898622</td>\n",
       "      <td>103.654783</td>\n",
       "    </tr>\n",
       "  </tbody>\n",
       "</table>\n",
       "</div>"
      ],
      "text/plain": [
       "          state                   dt     temp_C  humid_pct  precip_mm  \\\n",
       "0     San Diego  2024-01-14 21:12:46  10.683001  41.195754   4.020119   \n",
       "1     San Diego  2024-05-17 15:22:10   8.734140  58.319107   9.111623   \n",
       "2     San Diego  2024-05-11 09:30:59  11.632436  38.820175   4.607511   \n",
       "3  Philadelphia  2024-02-26 17:32:39  -8.628976  54.074474   3.183720   \n",
       "4   San Antonio  2024-04-29 13:23:51  39.808213  72.899908   9.598282   \n",
       "\n",
       "   windspeed_kmh      temp_F  \n",
       "0       8.233540   51.229402  \n",
       "1      27.715161   47.721452  \n",
       "2      28.732951   52.938385  \n",
       "3      26.367303   16.467843  \n",
       "4      29.898622  103.654783  "
      ]
     },
     "execution_count": 11,
     "metadata": {},
     "output_type": "execute_result"
    }
   ],
   "source": [
    "data.head()"
   ]
  },
  {
   "cell_type": "code",
   "execution_count": null,
   "id": "df96e2fc",
   "metadata": {},
   "outputs": [],
   "source": [
    "en = ce.OneHotEncoder(cols = 'State', use_cat_names=True)\n",
    "final_en = en.fit_transform(final)"
   ]
  },
  {
   "cell_type": "code",
   "execution_count": null,
   "id": "9ce40420",
   "metadata": {},
   "outputs": [],
   "source": [
    "# splitting dataset into features and target\n",
    "X = final_en.drop(columns = ['Present', 'Total'])\n",
    "y = final_en['Present']"
   ]
  },
  {
   "cell_type": "code",
   "execution_count": null,
   "id": "27cdff8b",
   "metadata": {},
   "outputs": [],
   "source": [
    "# some models use pca, so a pipeline is created to scale the data and then use pca to keep 95% of the variance\n",
    "pca = PCA(0.95)\n",
    "scaler = StandardScaler()\n",
    "pipe = Pipeline([('scaler', scaler), ('pca', pca)])\n",
    "X_pca_scaled = pipe.fit_transform(X)\n",
    "\n",
    "pca.explained_variance_ratio_"
   ]
  }
 ],
 "metadata": {
  "kernelspec": {
   "display_name": "Python 3 (ipykernel)",
   "language": "python",
   "name": "python3"
  },
  "language_info": {
   "codemirror_mode": {
    "name": "ipython",
    "version": 3
   },
   "file_extension": ".py",
   "mimetype": "text/x-python",
   "name": "python",
   "nbconvert_exporter": "python",
   "pygments_lexer": "ipython3",
   "version": "3.11.5"
  }
 },
 "nbformat": 4,
 "nbformat_minor": 5
}
